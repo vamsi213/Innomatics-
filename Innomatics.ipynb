{
 "cells": [
  {
   "cell_type": "code",
   "execution_count": 1,
   "id": "02056ca8",
   "metadata": {},
   "outputs": [],
   "source": [
    "import pandas as pd\n"
   ]
  },
  {
   "cell_type": "code",
   "execution_count": 2,
   "id": "54b33b0d",
   "metadata": {},
   "outputs": [],
   "source": [
    "df = pd.read_csv(\"movies.csv\")"
   ]
  },
  {
   "cell_type": "code",
   "execution_count": 3,
   "id": "711f323f",
   "metadata": {},
   "outputs": [
    {
     "name": "stdout",
     "output_type": "stream",
     "text": [
      "   movieId                               title  \\\n",
      "0        1                    Toy Story (1995)   \n",
      "1        2                      Jumanji (1995)   \n",
      "2        3             Grumpier Old Men (1995)   \n",
      "3        4            Waiting to Exhale (1995)   \n",
      "4        5  Father of the Bride Part II (1995)   \n",
      "\n",
      "                                        genres  \n",
      "0  Adventure|Animation|Children|Comedy|Fantasy  \n",
      "1                   Adventure|Children|Fantasy  \n",
      "2                               Comedy|Romance  \n",
      "3                         Comedy|Drama|Romance  \n",
      "4                                       Comedy  \n"
     ]
    }
   ],
   "source": [
    "print(df.head())"
   ]
  },
  {
   "cell_type": "code",
   "execution_count": 5,
   "id": "3892e2a9",
   "metadata": {},
   "outputs": [],
   "source": [
    "data_shape = df.shape"
   ]
  },
  {
   "cell_type": "code",
   "execution_count": 6,
   "id": "0cf3a743",
   "metadata": {},
   "outputs": [
    {
     "name": "stdout",
     "output_type": "stream",
     "text": [
      "(9742, 3)\n"
     ]
    }
   ],
   "source": [
    "print(data_shape)"
   ]
  },
  {
   "cell_type": "code",
   "execution_count": 7,
   "id": "60e6952a",
   "metadata": {},
   "outputs": [],
   "source": [
    "df_2 = pd.read_csv(\"ratings.csv\")"
   ]
  },
  {
   "cell_type": "code",
   "execution_count": 8,
   "id": "60e6e24a",
   "metadata": {},
   "outputs": [
    {
     "name": "stdout",
     "output_type": "stream",
     "text": [
      "(100836, 4)\n"
     ]
    }
   ],
   "source": [
    "data_shape_1 = df_2.shape\n",
    "print(data_shape_1)"
   ]
  },
  {
   "cell_type": "code",
   "execution_count": 11,
   "id": "b12411f0",
   "metadata": {
    "scrolled": true
   },
   "outputs": [
    {
     "name": "stdout",
     "output_type": "stream",
     "text": [
      "Index(['userId', 'movieId', 'rating', 'timestamp'], dtype='object')\n"
     ]
    }
   ],
   "source": [
    "print(df_2.columns)\n"
   ]
  },
  {
   "cell_type": "code",
   "execution_count": 12,
   "id": "634cc0e4",
   "metadata": {},
   "outputs": [],
   "source": [
    "unique_user_ids = df_2['userId'].nunique()\n"
   ]
  },
  {
   "cell_type": "code",
   "execution_count": 13,
   "id": "3cb9e788",
   "metadata": {},
   "outputs": [
    {
     "name": "stdout",
     "output_type": "stream",
     "text": [
      "The number of unique userId values is: 610\n"
     ]
    }
   ],
   "source": [
    "print(f'The number of unique userId values is: {unique_user_ids}')"
   ]
  },
  {
   "cell_type": "code",
   "execution_count": 14,
   "id": "54a656c4",
   "metadata": {},
   "outputs": [
    {
     "name": "stdout",
     "output_type": "stream",
     "text": [
      "The movie with the maximum number of user ratings is: 356\n"
     ]
    }
   ],
   "source": [
    "movie_ratings_count = df_2['movieId'].value_counts()\n",
    "\n",
    "\n",
    "max_rated_movie_id = movie_ratings_count.idxmax()\n",
    "\n",
    "\n",
    "max_rated_movie_details = df_2[df_2['movieId'] == max_rated_movie_id]['movieId'].iloc[0]\n",
    "\n",
    "print(f\"The movie with the maximum number of user ratings is: {max_rated_movie_details}\")"
   ]
  },
  {
   "cell_type": "code",
   "execution_count": 15,
   "id": "48c1ba00",
   "metadata": {},
   "outputs": [
    {
     "name": "stdout",
     "output_type": "stream",
     "text": [
      "Tags submitted by users to 'Matrix, The (1999)':\n",
      "['martial arts' 'sci-fi' 'alternate universe' 'philosophy'\n",
      " 'post apocalyptic']\n"
     ]
    }
   ],
   "source": [
    "import pandas as pd\n",
    "\n",
    "\n",
    "tags_df = pd.read_csv('tags.csv')\n",
    "\n",
    "\n",
    "movies_df = pd.read_csv('movies.csv')\n",
    "\n",
    "\n",
    "matrix_movie_id = movies_df[movies_df['title'] == 'Matrix, The (1999)']['movieId'].iloc[0]\n",
    "\n",
    "\n",
    "matrix_tags = tags_df[tags_df['movieId'] == matrix_movie_id]['tag']\n",
    "\n",
    "\n",
    "print(\"Tags submitted by users to 'Matrix, The (1999)':\")\n",
    "print(matrix_tags.unique())\n"
   ]
  },
  {
   "cell_type": "code",
   "execution_count": 16,
   "id": "fb4e8d18",
   "metadata": {},
   "outputs": [
    {
     "name": "stdout",
     "output_type": "stream",
     "text": [
      "The average user rating for 'Terminator 2: Judgment Day (1991)' is: 3.97\n"
     ]
    }
   ],
   "source": [
    "import pandas as pd\n",
    "\n",
    "\n",
    "ratings_df = pd.read_csv('ratings.csv')\n",
    "\n",
    "movies_df = pd.read_csv('movies.csv')\n",
    "\n",
    "\n",
    "terminator_movie_id = movies_df[movies_df['title'] == 'Terminator 2: Judgment Day (1991)']['movieId'].iloc[0]\n",
    "\n",
    "\n",
    "terminator_ratings = ratings_df[ratings_df['movieId'] == terminator_movie_id]['rating']\n",
    "\n",
    "\n",
    "average_rating = terminator_ratings.mean()\n",
    "\n",
    "print(f\"The average user rating for 'Terminator 2: Judgment Day (1991)' is: {average_rating:.2f}\")\n"
   ]
  },
  {
   "cell_type": "code",
   "execution_count": 17,
   "id": "d296b659",
   "metadata": {},
   "outputs": [
    {
     "data": {
      "image/png": "[encoded data removed]",
      "text/plain": [
       "<Figure size 640x480 with 1 Axes>"
      ]
     },
     "metadata": {},
     "output_type": "display_data"
    }
   ],
   "source": [
    "import pandas as pd\n",
    "import matplotlib.pyplot as plt\n",
    "\n",
    "\n",
    "ratings_df = pd.read_csv('ratings.csv')\n",
    "\n",
    "movies_df = pd.read_csv('movies.csv')\n",
    "\n",
    "\n",
    "fight_club_movie_id = movies_df[movies_df['title'] == 'Fight Club (1999)']['movieId'].iloc[0]\n",
    "\n",
    "\n",
    "fight_club_ratings = ratings_df[ratings_df['movieId'] == fight_club_movie_id]['rating']\n",
    "\n",
    "\n",
    "plt.hist(fight_club_ratings, bins=[0.5, 1.5, 2.5, 3.5, 4.5, 5.5], edgecolor='black')\n",
    "plt.title('Distribution of User Ratings for \"Fight Club (1999)\"')\n",
    "plt.xlabel('Rating')\n",
    "plt.ylabel('Number of Users')\n",
    "plt.xticks([1, 2, 3, 4, 5])\n",
    "plt.show()\n"
   ]
  },
  {
   "cell_type": "code",
   "execution_count": 21,
   "id": "a791ee77",
   "metadata": {},
   "outputs": [
    {
     "name": "stdout",
     "output_type": "stream",
     "text": [
      "         num_ratings  average_rating\n",
      "movieId                             \n",
      "1                215        3.920930\n",
      "2                110        3.431818\n",
      "3                 52        3.259615\n",
      "4                  7        2.357143\n",
      "5                 49        3.071429\n",
      "...              ...             ...\n",
      "193581             1        4.000000\n",
      "193583             1        3.500000\n",
      "193585             1        3.500000\n",
      "193587             1        3.500000\n",
      "193609             1        4.000000\n",
      "\n",
      "[9724 rows x 2 columns]\n"
     ]
    }
   ],
   "source": [
    "import pandas as pd\n",
    "\n",
    "\n",
    "ratings_df = pd.read_csv('ratings.csv')\n",
    "\n",
    "\n",
    "ratings_summary = ratings_df.groupby('movieId').agg({'rating': ['count', 'mean']})\n",
    "\n",
    "\n",
    "ratings_summary.columns = ['num_ratings', 'average_rating']\n",
    "\n",
    "\n",
    "print(ratings_summary)\n"
   ]
  },
  {
   "cell_type": "code",
   "execution_count": 19,
   "id": "6ce14d4a",
   "metadata": {},
   "outputs": [
    {
     "name": "stdout",
     "output_type": "stream",
     "text": [
      "   movieId                               title  \\\n",
      "0        1                    Toy Story (1995)   \n",
      "1        2                      Jumanji (1995)   \n",
      "2        3             Grumpier Old Men (1995)   \n",
      "3        4            Waiting to Exhale (1995)   \n",
      "4        5  Father of the Bride Part II (1995)   \n",
      "\n",
      "                                        genres  num_ratings  average_rating  \n",
      "0  Adventure|Animation|Children|Comedy|Fantasy          215        3.920930  \n",
      "1                   Adventure|Children|Fantasy          110        3.431818  \n",
      "2                               Comedy|Romance           52        3.259615  \n",
      "3                         Comedy|Drama|Romance            7        2.357143  \n",
      "4                                       Comedy           49        3.071429  \n"
     ]
    }
   ],
   "source": [
    "import pandas as pd\n",
    "\n",
    "\n",
    "movies_df = pd.read_csv('movies.csv')\n",
    "\n",
    "\n",
    "ratings_summary = ratings_df.groupby('movieId').agg({'rating': ['count', 'mean']})\n",
    "ratings_summary.columns = ['num_ratings', 'average_rating']\n",
    "\n",
    "merged_df = pd.merge(movies_df, ratings_summary, on='movieId', how='inner')\n",
    "\n",
    "\n",
    "print(merged_df.head())\n"
   ]
  },
  {
   "cell_type": "code",
   "execution_count": 20,
   "id": "c2fbc365",
   "metadata": {},
   "outputs": [
    {
     "name": "stdout",
     "output_type": "stream",
     "text": [
      "   movieId                    title  \\\n",
      "0        1         Toy Story (1995)   \n",
      "1        2           Jumanji (1995)   \n",
      "2        3  Grumpier Old Men (1995)   \n",
      "5        6              Heat (1995)   \n",
      "6        7           Sabrina (1995)   \n",
      "\n",
      "                                        genres  num_ratings  average_rating  \n",
      "0  Adventure|Animation|Children|Comedy|Fantasy          215        3.920930  \n",
      "1                   Adventure|Children|Fantasy          110        3.431818  \n",
      "2                               Comedy|Romance           52        3.259615  \n",
      "5                        Action|Crime|Thriller          102        3.946078  \n",
      "6                               Comedy|Romance           54        3.185185  \n"
     ]
    }
   ],
   "source": [
    "filtered_movies = merged_df[merged_df['num_ratings'] > 50]\n",
    "print(filtered_movies.head())"
   ]
  },
  {
   "cell_type": "code",
   "execution_count": 22,
   "id": "5f95aae8",
   "metadata": {},
   "outputs": [
    {
     "name": "stdout",
     "output_type": "stream",
     "text": [
      "Movie with the highest average rating:\n",
      "title             Shawshank Redemption, The (1994)\n",
      "average_rating                            4.429022\n",
      "Name: 277, dtype: object\n"
     ]
    }
   ],
   "source": [
    "\n",
    "highest_rated_movie = filtered_movies.loc[filtered_movies['average_rating'].idxmax()]\n",
    "\n",
    "\n",
    "print(\"Movie with the highest average rating:\")\n",
    "print(highest_rated_movie[['title', 'average_rating']])\n"
   ]
  },
  {
   "cell_type": "code",
   "execution_count": 23,
   "id": "f2da8f7c",
   "metadata": {},
   "outputs": [
    {
     "name": "stdout",
     "output_type": "stream",
     "text": [
      "Top 5 popular movies based on the number of user ratings:\n",
      "movieId\n",
      "356     329\n",
      "318     317\n",
      "296     307\n",
      "593     279\n",
      "2571    278\n",
      "Name: rating, dtype: int64\n"
     ]
    }
   ],
   "source": [
    "\n",
    "ratings_count = ratings_df.groupby('movieId')['rating'].count()\n",
    "\n",
    "\n",
    "sorted_movies = ratings_count.sort_values(ascending=False)\n",
    "\n",
    "\n",
    "top_5_popular_movies = sorted_movies.head(5)\n",
    "\n",
    "\n",
    "print(\"Top 5 popular movies based on the number of user ratings:\")\n",
    "print(top_5_popular_movies)\n"
   ]
  },
  {
   "cell_type": "code",
   "execution_count": 24,
   "id": "1dbf307c",
   "metadata": {},
   "outputs": [
    {
     "name": "stdout",
     "output_type": "stream",
     "text": [
      "Third most popular Sci-Fi movie based on the number of user ratings:\n",
      "                    title                            genres\n",
      "418  Jurassic Park (1993)  Action|Adventure|Sci-Fi|Thriller\n"
     ]
    }
   ],
   "source": [
    "import pandas as pd\n",
    "\n",
    "\n",
    "movies_df = pd.read_csv('movies.csv')\n",
    "\n",
    "\n",
    "merged_df = pd.merge(ratings_df, movies_df, on='movieId', how='inner')\n",
    "\n",
    "\n",
    "sci_fi_movies = merged_df[merged_df['genres'].str.contains('Sci-Fi')]\n",
    "\n",
    "\n",
    "sci_fi_ratings_count = sci_fi_movies.groupby('movieId')['rating'].count()\n",
    "\n",
    "\n",
    "sorted_sci_fi_movies = sci_fi_ratings_count.sort_values(ascending=False\n",
    "                                                        \n",
    "third_most_popular_sci_fi_movie_id = sorted_sci_fi_movies.index[2]\n",
    "third_most_popular_sci_fi_movie = movies_df[movies_df['movieId'] == third_most_popular_sci_fi_movie_id]\n",
    "\n",
    "\n",
    "print(\"Third most popular Sci-Fi movie based on the number of user ratings:\")\n",
    "print(third_most_popular_sci_fi_movie[['title', 'genres']])\n"
   ]
  },
  {
   "cell_type": "code",
   "execution_count": 27,
   "id": "ad1eb06d",
   "metadata": {},
   "outputs": [],
   "source": [
    "links_df = pd.read_csv(\"links.csv\")"
   ]
  },
  {
   "cell_type": "code",
   "execution_count": 28,
   "id": "ee0a24f3",
   "metadata": {},
   "outputs": [
    {
     "name": "stdout",
     "output_type": "stream",
     "text": [
      "   movieId  imdbId   tmdbId\n",
      "0        1  114709    862.0\n",
      "1        2  113497   8844.0\n",
      "2        3  113228  15602.0\n",
      "3        4  114885  31357.0\n",
      "4        5  113041  11862.0\n"
     ]
    }
   ],
   "source": [
    "print(links_df.head())"
   ]
  },
  {
   "cell_type": "code",
   "execution_count": 33,
   "id": "cab3d2d8",
   "metadata": {},
   "outputs": [
    {
     "name": "stdout",
     "output_type": "stream",
     "text": [
      "Row with the maximum IMDb ID:\n",
      "movieId     193587.0\n",
      "imdbId     8391976.0\n",
      "tmdbId      483455.0\n",
      "Name: 9740, dtype: float64\n"
     ]
    }
   ],
   "source": [
    "import pandas as pd\n",
    "\n",
    "\n",
    "links_df = pd.read_csv('links.csv')\n",
    "\n",
    "\n",
    "max_imdb_id_row = links_df.loc[links_df['imdbId'].idxmax()]\n",
    "\n",
    "\n",
    "print(\"Row with the maximum IMDb ID:\")\n",
    "print(max_imdb_id_row)\n"
   ]
  },
  {
   "cell_type": "code",
   "execution_count": null,
   "id": "e077bb68",
   "metadata": {},
   "outputs": [],
   "source": [
    "import requests\n",
    "import numpy as np\n",
    "from bs4 import BeautifulSoup\n",
    "\n",
    "def scrapper(imdbId):\n",
    "    id = str(int(imdbId))\n",
    "    n_zeroes = 7 - len(id)\n",
    "    new_id = \"0\" * n_zeroes + id\n",
    "    URL = f\"https://www.imdb.com/title/tt{new_id}/\"\n",
    "    request_header = {\n",
    "        'Content-Type': 'text/html; charset=UTF-8',\n",
    "        'User-Agent': 'Mozilla/5.0 (Windows NT 10.0; Win64; x64; rv:109.0) Gecko/20100101 Firefox/119.0',\n",
    "        'Accept-Encoding': 'gzip, deflate, br'\n",
    "    }\n",
    "    response = requests.get(URL, headers=request_header)\n",
    "    soup = BeautifulSoup(response.text, 'html.parser')\n",
    "    \n",
    "    # Find the IMDb rating - Update these values based on IMDb website structure\n",
    "    imdb_rating_tag = soup.find('span', {'itemprop': 'ratingValue'})\n",
    "    \n",
    "    # If IMDb rating tag is found, return the text; otherwise, return NaN\n",
    "    return imdb_rating_tag.text if imdb_rating_tag else np.nan\n"
   ]
  },
  {
   "cell_type": "code",
   "execution_count": null,
   "id": "6f00149f",
   "metadata": {},
   "outputs": [],
   "source": [
    "import pandas as pd\n",
    "\n",
    "filtered_movies = pd.merge(filtered_movies, links[['movieId', 'imdbId']], on='movieId', how='left')\n",
    "\n",
    "\n",
    "filtered_movies = filtered_movies.dropna(subset=['imdbId'])\n",
    "\n",
    "\n",
    "filtered_movies['imdb_rating'] = filtered_movies['imdbId'].apply(scrapper)\n",
    "\n",
    "print(filtered_movies[['movieId', 'imdb_rating']])\n"
   ]
  },
  {
   "cell_type": "code",
   "execution_count": null,
   "id": "d48a776e",
   "metadata": {},
   "outputs": [],
   "source": [
    "\n",
    "highest_rated_movie_imdb = filtered_movies.loc[filtered_movies['imdb_rating'].idxmax()]\n",
    "\n",
    "\n",
    "print(\"MovieId of the highest-rated movie (IMDb):\", highest_rated_movie_imdb['movieId'])\n"
   ]
  },
  {
   "cell_type": "code",
   "execution_count": null,
   "id": "8ef4340d",
   "metadata": {},
   "outputs": [],
   "source": []
  }
 ],
 "metadata": {
  "kernelspec": {
   "display_name": "Python 3 (ipykernel)",
   "language": "python",
   "name": "python3"
  },
  "language_info": {
   "codemirror_mode": {
    "name": "ipython",
    "version": 3
   },
   "file_extension": ".py",
   "mimetype": "text/x-python",
   "name": "python",
   "nbconvert_exporter": "python",
   "pygments_lexer": "ipython3",
   "version": "3.10.9"
  }
 },
 "nbformat": 4,
 "nbformat_minor": 5
}
